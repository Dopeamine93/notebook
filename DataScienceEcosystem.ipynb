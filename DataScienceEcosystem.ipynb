{
 "cells": [
  {
   "cell_type": "markdown",
   "id": "671bf159-f9b1-4289-9968-ba4c8a6914db",
   "metadata": {},
   "source": [
    "# Data Science Tools and Ecosystem"
   ]
  },
  {
   "cell_type": "markdown",
   "id": "81b34202-54ca-49f9-be87-6d3d7a6233ae",
   "metadata": {},
   "source": [
    "In this notebook, Data Science Tools and Ecosystem are summarized"
   ]
  },
  {
   "cell_type": "markdown",
   "id": "e4c28ec7-5c32-4ac0-9a9c-4aec62f55579",
   "metadata": {},
   "source": [
    "**Objectives:**\n",
    "\n",
    "* List popular languages for Data Science.\n",
    "* Explain the functionalities of some commonly used libraries in Data Science (e.g., NumPy, Pandas, Scikit-learn).\n",
    "* Describe the purpose of development environment open-source tools used in Data Science (e.g., Jupyter Notebook, PyCharm, Visual Studio Code).\n",
    "* Demonstrate basic arithmetic operations within a code cell (optional, depending on your notebook's content).\n"
   ]
  },
  {
   "cell_type": "markdown",
   "id": "0e159c28-ead1-4d47-9c27-7dcc1e1fae49",
   "metadata": {},
   "source": [
    "Some of the popular languages that Data Scientists use are:\n",
    "\n",
    "1. Python\n",
    "2. R\n",
    "3. SQL"
   ]
  },
  {
   "cell_type": "markdown",
   "id": "ba669241-6ae8-4103-ba6d-c0dc35676f29",
   "metadata": {},
   "source": [
    "Some of the commonly used libraries used by Data Scientists include:\n",
    "\n",
    "1. **NumPy:** \n",
    "2. **Pandas:** \n",
    "3. **Scikit-learn:** \n"
   ]
  },
  {
   "cell_type": "markdown",
   "id": "9f4c792a-e35a-47d5-a047-20b4b58efc14",
   "metadata": {},
   "source": [
    "| Data Science Tools |\r\n",
    "|---|\r\n",
    "| Jupyter Notebook |\r\n",
    "| PyCharm Community Edition |\r\n",
    "| Visual Studio Code |"
   ]
  },
  {
   "cell_type": "markdown",
   "id": "3cddebab-f81f-45d5-a08c-a96649d4bda9",
   "metadata": {},
   "source": [
    "### Below are a few examples of evaluating arithmetic expressions in Python"
   ]
  },
  {
   "cell_type": "code",
   "execution_count": 26,
   "id": "1e2399a4-72b4-4b3f-8da1-52292fe4c134",
   "metadata": {},
   "outputs": [
    {
     "data": {
      "text/plain": [
       "17"
      ]
     },
     "execution_count": 26,
     "metadata": {},
     "output_type": "execute_result"
    }
   ],
   "source": [
    "# This a simple arithmetic expression to mutiply then add integers\n",
    "(3*4)+5"
   ]
  },
  {
   "cell_type": "code",
   "execution_count": 28,
   "id": "3c9770ee-5329-4919-a21a-266ceea47ac8",
   "metadata": {},
   "outputs": [
    {
     "name": "stdout",
     "output_type": "stream",
     "text": [
      "200 minutes is equal to 3.33 hours\n"
     ]
    }
   ],
   "source": [
    "# This will convert 200 minutes to hours by dividing by 60 (minutes per hour)\n",
    "minutes = 200\n",
    "hours = minutes / 60\n",
    "\n",
    "# Print the result with a label\n",
    "print(f\"{minutes} minutes is equal to {hours:.2f} hours\")"
   ]
  },
  {
   "cell_type": "markdown",
   "id": "e76c7f9e-30a9-4313-b43c-1241a36de89d",
   "metadata": {},
   "source": [
    "## Author\n",
    "\n",
    "HAJJOUJ AMINE\n"
   ]
  },
  {
   "cell_type": "code",
   "execution_count": null,
   "id": "8b808133-3720-420d-bb55-6886f5e1a9f1",
   "metadata": {},
   "outputs": [],
   "source": []
  },
  {
   "cell_type": "code",
   "execution_count": null,
   "id": "4b4912e8-367b-498a-8df8-f6054fb73b89",
   "metadata": {},
   "outputs": [],
   "source": []
  }
 ],
 "metadata": {
  "kernelspec": {
   "display_name": "anaconda-panel-2023.05-py310",
   "language": "python",
   "name": "conda-env-anaconda-panel-2023.05-py310-py"
  },
  "language_info": {
   "codemirror_mode": {
    "name": "ipython",
    "version": 3
   },
   "file_extension": ".py",
   "mimetype": "text/x-python",
   "name": "python",
   "nbconvert_exporter": "python",
   "pygments_lexer": "ipython3",
   "version": "3.11.5"
  }
 },
 "nbformat": 4,
 "nbformat_minor": 5
}
